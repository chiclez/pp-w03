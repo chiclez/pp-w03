{
 "cells": [
  {
   "cell_type": "markdown",
   "metadata": {},
   "source": [
    "# Week 3 worksheet: Conditional statements, more loops, and code review\n",
    "\n",
    "In this worksheet, we introduce conditional statements, another *control flow* tool, which allows us to specify *condition(s)* under which to execute certain parts of our code. We also present the `while` loop, and explore different ways to combine these structures to perform more elaborate computations.\n",
    "\n",
    "The best way to learn programming is to write code. Don't hesitate to edit the code in the example cells, or add your own code, to test your understanding. You will find practice exercises throughout the notebook, denoted by 🚩 ***Exercise $x$:***.\n",
    "\n",
    "#### Displaying solutions\n",
    "\n",
    "Solutions will be released one week after the worksheets are released, as a new `.txt` file in the same GitHub repository. After pulling the file to your workspace (either your computer or your Noteable server), run the following cell to create clickable buttons under each exercise, which will allow you to reveal the solutions."
   ]
  },
  {
   "cell_type": "code",
   "execution_count": null,
   "metadata": {},
   "outputs": [],
   "source": [
    "%run scripts/create_widgets.py week03"
   ]
  },
  {
   "cell_type": "markdown",
   "metadata": {},
   "source": [
    "---\n",
    "## Conditional statements\n",
    "\n",
    "Conditional statements allow us to create different branches in our code, to separate different instructions to be executed under specific conditions.\n",
    "\n",
    "### `if` statements\n",
    "\n",
    "Booleans can be used to execute or skip certain instructions under given conditions, using `if` statements. The syntax is as follows:\n",
    "```python\n",
    "if my_condition:\n",
    "    [some instructions]\n",
    "```\n",
    "where `my_condition` is a Boolean object whose value is either `True` or `False`. A few examples:"
   ]
  },
  {
   "cell_type": "code",
   "execution_count": null,
   "metadata": {},
   "outputs": [],
   "source": [
    "# Define some variables\n",
    "a = 4.3\n",
    "b = 5.1\n",
    "c = 'hello'\n",
    "i = 1\n",
    "j = 8\n",
    "z = True\n",
    "\n",
    "if i == j:\n",
    "    # This is not true -- any instructions\n",
    "    # in this block are ignored\n",
    "    print('i and j are equal')\n",
    "\n",
    "if i < j:\n",
    "    print('i is less than j')\n",
    "    \n",
    "if type(i) == int:\n",
    "    print('i is an integer')\n",
    "\n",
    "if type(c) == str and type(j) != float:\n",
    "    print('c is a string and j is not a float')\n",
    "\n",
    "if (a + b) > 7:\n",
    "    print(a + b)\n",
    "\n",
    "if z:\n",
    "    print(a)\n",
    "\n",
    "if j:\n",
    "    # Recall boolean casting in W1...\n",
    "    print('j is not zero nor empty')"
   ]
  },
  {
   "cell_type": "markdown",
   "metadata": {},
   "source": [
    "In the last example, although `j` does not point to a Boolean object, it is *interpreted* as a Boolean, because it follows the `if` keyword -- remember type-casting and duck-typing in Week 2. Non-zero numbers and non-empty containers are interpreted as `True`, whereas `0`, `0.0`, `None`, and empty containers (e.g. an empty list `[]` or an empty string `''`) are interpreted as `False`.\n",
    "\n",
    "### `if`-`elif`-`else` blocks\n",
    "\n",
    "To check multiple conditions one after another, we can use `if`-`elif`-`else` blocks (`elif` is short for \"else if\"). The syntax is\n",
    "```python\n",
    "if cond_1:\n",
    "    # [some instructions, executed if cond_1 is true]\n",
    "elif cond_2:\n",
    "    # [other instructions, executed if cond_1 is false,\n",
    "    # but cond_2 is true]\n",
    "else:\n",
    "    # [other instructions, executed if both cond_1 and cond_2\n",
    "    # are false]\n",
    "```\n",
    "Note, in particular, that the conditions in an `if`-`elif`-`else` block are checked in order, and **only one** branch is executed.\n",
    "\n",
    "Here is an example:"
   ]
  },
  {
   "cell_type": "code",
   "execution_count": null,
   "metadata": {},
   "outputs": [],
   "source": [
    "a = 4.9\n",
    "b = 5.4\n",
    "\n",
    "if a > b:\n",
    "    print('a is greater than b')\n",
    "elif a < b:\n",
    "    print('a is smaller than b')\n",
    "else:\n",
    "    print('a is equal to b')"
   ]
  },
  {
   "cell_type": "markdown",
   "metadata": {},
   "source": [
    "---\n",
    "**📚 Learn more:**\n",
    "* [More flow control tools - Python 3.7 documentation](https://docs.python.org/3/tutorial/controlflow.html)\n",
    "* [Boolean operations - Python 3.7 documentation](https://docs.python.org/3/reference/expressions.html#boolean-operations)\n",
    "\n",
    "---\n",
    "🚩 ***Exercise 1:*** The following code generates a random integer `n` between 1 and 1000. Complete the code such that running the cell displays a sentence indicating whether `n` is a multiple of both 3 and 7, either 3 or 7 (but not both), or neither.\n",
    "\n",
    "*Note: the generated random number will be different every time you run the cell. It is generated using [NumPy's random number functionality](https://numpy.org/doc/stable/reference/random/generated/numpy.random.Generator.integers.html#numpy.random.Generator.integers).*"
   ]
  },
  {
   "cell_type": "code",
   "execution_count": 8,
   "metadata": {},
   "outputs": [
    {
     "name": "stdout",
     "output_type": "stream",
     "text": [
      "513 is a multiple of 3\n"
     ]
    }
   ],
   "source": [
    "import numpy as np\n",
    "\n",
    "rng = np.random.default_rng()\n",
    "n = rng.integers(1, 1001)\n",
    "\n",
    "if (n%3 == 0 and n%7 == 0):\n",
    "    print(f\"{n} is a multiple of 3 and 7\")\n",
    "elif(n%3 == 0):\n",
    "    print(f\"{n} is a multiple of 3\")\n",
    "elif(n%7 == 0):\n",
    "    print(f\"{n} is a multiple of 7\")\n",
    "else:\n",
    "    print(f\"{n} is not a multiple of 3 and 7, nor a multiple of 3 or 7\")\n",
    "\n"
   ]
  },
  {
   "cell_type": "code",
   "execution_count": null,
   "metadata": {
    "tags": [
     "solution_cell"
    ]
   },
   "outputs": [],
   "source": [
    "%run scripts/show_solutions.py week03_ex1"
   ]
  },
  {
   "cell_type": "markdown",
   "metadata": {},
   "source": [
    "---\n",
    "🚩 ***Exercise 2:*** Construct a loop over all words in the string `zen`. For each word:\n",
    "* if it contains an `e`, print the word.\n",
    "* if it does not contain an `e`, but contains an `i`, print the first character of the word.\n",
    "* if it does not contain an `e` nor an `i`, increment `count` by 1.\n",
    "\n",
    "*Notes:*\n",
    "- *You will first need to create a list of words from the string --- luckily, you should find a convenient [method](https://docs.python.org/3/library/stdtypes.html#string-methods) for this if you search the documentation.*\n",
    "- *The text is from the Zen of Python: https://www.python.org/dev/peps/pep-0020/*"
   ]
  },
  {
   "cell_type": "code",
   "execution_count": 42,
   "metadata": {
    "scrolled": true
   },
   "outputs": [
    {
     "name": "stdout",
     "output_type": "stream",
     "text": [
      "['If', 'the', 'implementation', 'is', 'hard', 'to', 'explain,', 'it', 'is', 'a', 'bad', 'idea.', 'If', 'the', 'implementation', 'is', 'easy', 'to', 'explain,', 'it', 'may', 'be', 'a', 'good', 'idea.']\n",
      "the\n",
      "implementation\n",
      "i\n",
      "explain,\n",
      "i\n",
      "i\n",
      "idea.\n",
      "the\n",
      "implementation\n",
      "i\n",
      "easy\n",
      "explain,\n",
      "i\n",
      "be\n",
      "idea.\n"
     ]
    }
   ],
   "source": [
    "zen = 'If the implementation is hard to explain, it is a bad idea. If the implementation is easy to explain, it may be a good idea.'\n",
    "count = 0\n",
    "zenList = zen.split(\" \")\n",
    "print(zenList)\n",
    "\n",
    "for i in range(0, len(zenList)):\n",
    "    if(\"e\" in zenList[i]):\n",
    "        print(zenList[i])\n",
    "    elif(\"i\" in zenList[i] and not \"e\" in zenList[i]):\n",
    "        print(zenList[i][:1])\n",
    "    else:\n",
    "        i = i + 1\n"
   ]
  },
  {
   "cell_type": "code",
   "execution_count": null,
   "metadata": {
    "tags": [
     "solution_cell"
    ]
   },
   "outputs": [],
   "source": [
    "%run scripts/show_solutions.py week03_ex2"
   ]
  },
  {
   "cell_type": "markdown",
   "metadata": {},
   "source": [
    "---\n",
    "## `while` loops\n",
    "\n",
    "`while` loops are used to repeat a set of instructions *while* a given condition is true. The `while` statement does *not* use any placeholder variables; instead, it must be given a Boolean object (i.e., an expression which evaluates to either `True` or `False`). The syntax is as follows:\n",
    "```python\n",
    "while my_condition:\n",
    "    [some instructions]\n",
    "```\n",
    "where `my_condition` has type `bool`. The instructions in the loop are executed repeatedly, until `my_condition` evaluates to `False`, after which the loop terminates.\n",
    "\n",
    "For example, we can calculate the same sum $S$ as in Week 2, using a `while` loop:\n",
    "$$\n",
    "S = \\sum_{i=0}^{10} i\n",
    "$$"
   ]
  },
  {
   "cell_type": "code",
   "execution_count": 43,
   "metadata": {},
   "outputs": [
    {
     "name": "stdout",
     "output_type": "stream",
     "text": [
      "55\n"
     ]
    }
   ],
   "source": [
    "S = 0\n",
    "i = 0\n",
    "\n",
    "while i <= 10:\n",
    "    S += i\n",
    "    i += 1\n",
    "\n",
    "print(S)"
   ]
  },
  {
   "cell_type": "markdown",
   "metadata": {},
   "source": [
    "Let's break this down:\n",
    "\n",
    "- We start with assigning `S = 0`, as with the `for` loop. Here, because `while` loops don't assign the placeholder variable by themselves, we need to assign and increment `i` manually.\n",
    "\n",
    "- We get to the start of the loop, and the condition is checked. Since we start with `i = 0`, the expression `i <= 10` evaluates to `True`, and we can proceed with the first iteration. `i` is incremented by 1 inside the loop.\n",
    "\n",
    "- For the next iteration, `i = 1`, and `i <= 10` still evaluates to `True` -- we proceed again with the instructions in the loop.\n",
    "\n",
    "- The 11th iteration ends by assigning `i = 11`. Going back up to the `while` statement, the expression `i <= 10` now evaluates to `False`, and the loop terminates immediately.\n",
    "\n",
    "For this example, the `for` loop is clearly the better choice, as we already know how many iterations we need to complete the calculation.\n",
    "\n",
    "---\n",
    "**📚 Learn more:**\n",
    "* [First steps towards programming - The `while` loop - Python 3.7 documentation](https://docs.python.org/3/tutorial/introduction.html#first-steps-towards-programming)\n",
    "* [The `while` statement](https://docs.python.org/3/reference/compound_stmts.html#while)\n",
    "\n",
    "---\n",
    "🚩 ***Exercise 3:*** The Maclaurin series for the exponential function is\n",
    "\n",
    "$$\n",
    "e^x = \\sum_{n=0}^\\infty \\frac{x^n}{n!} = 1 + x + \\frac{x^2}{2!} + \\frac{x^3}{3!} + \\frac{x^4}{4!} + \\dots\n",
    "$$\n",
    "\n",
    "Using a `while` loop, find out how many terms of this series are needed to obtain an approximation of $e^1$ which is accurate to 6 significant digits.\n",
    "\n",
    "[The documentation for the `math` module](https://docs.python.org/3/library/math.html) may be helpful."
   ]
  },
  {
   "cell_type": "code",
   "execution_count": 1,
   "metadata": {},
   "outputs": [
    {
     "name": "stdout",
     "output_type": "stream",
     "text": [
      "Approximation of e^1 using Maclaurin series\n",
      "e^1 with a Maclaurin expansion of 10 terms: 2.7182815255731922\n"
     ]
    }
   ],
   "source": [
    "import numpy as np\n",
    "\n",
    "print(\"Approximation of e^1 using Maclaurin series\")\n",
    "n =0\n",
    "maclaurin = 0\n",
    "error = float(abs(maclaurin - np.exp(1)))\n",
    "tol = 1e-6\n",
    "\n",
    "while(error >= tol):\n",
    "    maclaurin += (1**(np.math.factorial(n)))/np.math.factorial(n)\n",
    "    n = n + 1\n",
    "    error = float(abs(maclaurin - np.exp(1)))\n",
    "print(f\"e^1 with a Maclaurin expansion of {n} terms: {maclaurin}\")"
   ]
  },
  {
   "cell_type": "code",
   "execution_count": null,
   "metadata": {
    "tags": [
     "solution_cell"
    ]
   },
   "outputs": [],
   "source": [
    "%run scripts/show_solutions.py week03_ex3"
   ]
  },
  {
   "cell_type": "markdown",
   "metadata": {},
   "source": [
    "---\n",
    "### The `break`  statement in loops\n",
    "\n",
    "Sometimes, we may wish to exit a loop early -- for example, when we try to find the first element in a list which matches a condition. Once we find the element, we don't want to keep looping through the rest of the list.\n",
    "\n",
    "The `break` statement can be used to exit a loop conditionally. Here is an example:"
   ]
  },
  {
   "cell_type": "code",
   "execution_count": 2,
   "metadata": {},
   "outputs": [
    {
     "name": "stdout",
     "output_type": "stream",
     "text": [
      "is\n"
     ]
    }
   ],
   "source": [
    "list_of_strings = ['hello', 'this', 'is', 'a', 'lot', 'of', 'text', 'in', 'a', 'list.']\n",
    "\n",
    "# Find and display the first word which starts with an i\n",
    "for word in list_of_strings:\n",
    "    if word[0] == 'i':\n",
    "        print(word)\n",
    "        break    # This stops the loop immediately"
   ]
  },
  {
   "cell_type": "markdown",
   "metadata": {},
   "source": [
    "---\n",
    "**Note:** It is easy to see that a `while` loop can potentially run forever. When this happens, in Jupyter/IPython, `In [*]:` will appear on the top left of the code cell -- click the square button on the toolbar above to interrupt the kernel.\n",
    "\n",
    "It is also usually a good idea to count iterations when using `while` loops, for instance by incrementing a counting variable at every iteration. To safeguard against infinite loops, you can then `break` the loop conditionally, for example if the counter exceeds some maximum number of iterations.\n",
    "\n",
    "---\n",
    "**📚 Learn more:**\n",
    "* [More flow control tools - Python 3.7 documentation](https://docs.python.org/3/tutorial/controlflow.html)\n",
    "* [`break` and `continue` statements, and `else` clauses on loops - Python 3.7 documentation](https://docs.python.org/3/tutorial/controlflow.html#break-and-continue-statements-and-else-clauses-on-loops)\n",
    "\n",
    "\n",
    "---\n",
    "🚩 ***Exercise 4:*** The following is an example of *nested loops*. Try to predict the displayed output, and run the cell to verify. How does `break` behave within nested loops?"
   ]
  },
  {
   "cell_type": "code",
   "execution_count": 6,
   "metadata": {},
   "outputs": [
    {
     "name": "stdout",
     "output_type": "stream",
     "text": [
      "5\n",
      "10\n",
      "15\n",
      "18\n",
      "19\n",
      "20\n",
      "21\n",
      "22\n",
      "23\n",
      "24\n"
     ]
    }
   ],
   "source": [
    "count = 0\n",
    "\n",
    "for i in range(10):\n",
    "    for j in range(5):\n",
    "        count += 1\n",
    "        if count > 17:\n",
    "            break\n",
    "    print(count)\n",
    "#The loop starts at i =0, and then starts another loop at j = 0, and starts the count at 1. Then:\n",
    "# i =0, j =0, count =1\n",
    "# i =0, j =1, count =2\n",
    "# i =0, j =2, count =3\n",
    "# i =0, j =3, count =4\n",
    "# i =0, j =4, count =5\n",
    "# print count\n",
    "# i =1, j =0, count =6\n",
    "# i =1, j =1, count =7\n",
    "# i =1, j =2, count =8\n",
    "# i =1, j =3, count =9\n",
    "# i =1, j =4, count =10\n",
    "# print count\n",
    "# i =2, j =0, count =11\n",
    "# i =2, j =1, count =12\n",
    "# i =2, j =2, count =13\n",
    "# i =2, j =3, count =14\n",
    "# i =2, j =4, count =15\n",
    "# print count\n",
    "# i =3, j =0, count =16\n",
    "# i =3, j =1, count =17\n",
    "# i =3, j =2, count =18\n",
    "# if count > 18, break\n",
    "# print count and finish the j stuff\n",
    "# i =4, print count =19\n",
    "# i =5, print count =20\n",
    "# i =6, print count =21\n",
    "# i =7, print count =22\n",
    "# i =8, print count =23\n",
    "# i =9, print count =24\n"
   ]
  },
  {
   "cell_type": "code",
   "execution_count": null,
   "metadata": {
    "tags": [
     "solution_cell"
    ]
   },
   "outputs": [],
   "source": [
    "%run scripts/show_solutions.py week03_ex4"
   ]
  },
  {
   "cell_type": "markdown",
   "metadata": {},
   "source": [
    "---\n",
    "## Debugging and troubleshooting\n",
    "\n",
    "A **bug** is simply an error or a mistake in your code, which makes it fail and/or produce the wrong result. Debugging is the process of finding and correcting bugs, by inspecting the output of the code under carefully chosen inputs and conditions.\n",
    "\n",
    "### Errors and exceptions\n",
    "\n",
    "You have probably already encountered a few **runtime errors** -- this is when Python fails to run your code for any reason, and gives you a short message to explain what went wrong. It is essential to know how to interpret these to debug your code and troubleshoot problems.\n",
    "\n",
    "Here is an example of a runtime error -- run the cell below:"
   ]
  },
  {
   "cell_type": "code",
   "execution_count": 9,
   "metadata": {},
   "outputs": [
    {
     "name": "stdout",
     "output_type": "stream",
     "text": [
      "Hello world\n"
     ]
    }
   ],
   "source": [
    "my_string = 'Hello world'\n",
    "if my_string[0] == 'H':\n",
    "    print(my_string)\n",
    "#Missing colon after the condition"
   ]
  },
  {
   "cell_type": "markdown",
   "metadata": {},
   "source": [
    "Can you spot the error?\n",
    "\n",
    "The first line of the error message indicates the *file* where the error happened -- this is useful when working on projects with many different Python scripts and custom modules, not so much for us here on Jupyter.\n",
    "\n",
    "Note that the **line number** also appears in the error message. You can see line numbers in Jupyter notebooks by clicking <kbd>View</kbd> > <kbd>Toggle Line Numbers</kbd> in the menu bar at the top of the page.\n",
    "\n",
    "The second line repeats the line where the error was detected, and we can check that this is indeed line 2 in our cell, as indicated previously.\n",
    "\n",
    "The third line only has a `^` character. This is simply an **arrow**, which indicates where the error was detected, on the line printed above. Here, the `^` sits just after the last character in the `if` statement; the colon `:` is missing.\n",
    "\n",
    "Finally, the very last line indicates two things:\n",
    "* the **type** of error -- here, a `SyntaxError`. Like everything else in Python, errors and exceptions are also objects with types.\n",
    "* the **error message**, -- here, `invalid syntax`. The error message tries to give you more specific information about what the issue is.\n",
    "\n",
    "*Syntax errors* are what they sound like -- usually typos. They are detected even before the code is executed. They occur when the code you wrote is not valid Python syntax; in the example above, as pointed out by the little arrow `^`, we forgot the colon `:` at the end of the `if` statement.\n",
    "\n",
    "### Built-in exception types\n",
    "\n",
    "Simply speaking, when an **error** is detected in your code, an **exception** is raised, which interrupts execution and gives you some information about what went wrong. There are many built-in exception types in Python -- here are some of the more commonly encountered ones, run the code cells to see an example of the corresponding error **trace**. Note that the offending line is usually printed with a few lines of context.\n",
    "\n",
    "* **`IndexError`**: a sequence subscript is out of range. For instance, here, we're trying to access `my_list[4]`, but `my_list` only has elements up to `my_list[3]`."
   ]
  },
  {
   "cell_type": "code",
   "execution_count": 11,
   "metadata": {},
   "outputs": [
    {
     "name": "stdout",
     "output_type": "stream",
     "text": [
      "4\n"
     ]
    }
   ],
   "source": [
    "my_list = [1, 2, 3, 4]\n",
    "print(my_list[3]) #i = 3\n",
    "#index is out of bounds, i = 3, while the number of elements is 4"
   ]
  },
  {
   "cell_type": "markdown",
   "metadata": {},
   "source": [
    "* **`NameError`**: the variable referred to does not exist -- there is no box in memory with this label. This often comes up when you mistype a variable name."
   ]
  },
  {
   "cell_type": "code",
   "execution_count": 12,
   "metadata": {},
   "outputs": [
    {
     "name": "stdout",
     "output_type": "stream",
     "text": [
      "[1, 2, 3, 4]\n"
     ]
    }
   ],
   "source": [
    "my_list = [1, 2, 3, 4]\n",
    "print(my_list)\n",
    "#typo in the list name. missing l"
   ]
  },
  {
   "cell_type": "markdown",
   "metadata": {},
   "source": [
    "* **`SyntaxError`**: the code is not syntactically correct --- it is not valid Python, so Python doesn't know how to interpret it."
   ]
  },
  {
   "cell_type": "code",
   "execution_count": 25,
   "metadata": {},
   "outputs": [
    {
     "ename": "SyntaxError",
     "evalue": "invalid syntax (<ipython-input-25-7d6473c9bb35>, line 2)",
     "output_type": "error",
     "traceback": [
      "\u001b[1;36m  File \u001b[1;32m\"<ipython-input-25-7d6473c9bb35>\"\u001b[1;36m, line \u001b[1;32m2\u001b[0m\n\u001b[1;33m    if my_string[0] == 'H'\u001b[0m\n\u001b[1;37m                          ^\u001b[0m\n\u001b[1;31mSyntaxError\u001b[0m\u001b[1;31m:\u001b[0m invalid syntax\n"
     ]
    }
   ],
   "source": [
    "my_string = 'Hello world'\n",
    "if my_string[0] == 'H'\n",
    "    print(my_string)"
   ]
  },
  {
   "cell_type": "markdown",
   "metadata": {},
   "source": [
    "* **`TypeError`**: a *very* common error to see when learning Python! This means that an operation or a function is applied to an object of the wrong *type*. A few examples:"
   ]
  },
  {
   "cell_type": "code",
   "execution_count": null,
   "metadata": {},
   "outputs": [],
   "source": [
    "# Trying to index something that is not a sequence...\n",
    "my_int = 4\n",
    "print(my_int[2])"
   ]
  },
  {
   "cell_type": "code",
   "execution_count": null,
   "metadata": {},
   "outputs": [],
   "source": [
    "# Trying to multiply two lists together...\n",
    "my_list = [1, 2, 3, 4]\n",
    "my_other_list = [5, 6, 7]\n",
    "print(my_list * my_other_list)"
   ]
  },
  {
   "cell_type": "code",
   "execution_count": 14,
   "metadata": {},
   "outputs": [
    {
     "name": "stdout",
     "output_type": "stream",
     "text": [
      "4\n"
     ]
    }
   ],
   "source": [
    "# Trying to compute the square of a string...\n",
    "def my_func(x):\n",
    "    return x ** 2\n",
    "\n",
    "#print(my_func('Why hello there'))\n",
    "print(my_func(2))\n",
    "\n",
    "#this is a string, and cannot be used for calculating a square"
   ]
  },
  {
   "cell_type": "markdown",
   "metadata": {},
   "source": [
    "* **`ValueError`**: raised when an operation or function is applied to an object with the right *type*, but an invalid *value*. For example, the `int()` function can cast a string to an integer, *if the string can be interpreted as a number*."
   ]
  },
  {
   "cell_type": "code",
   "execution_count": null,
   "metadata": {},
   "outputs": [],
   "source": [
    "a = int('432')    # all good\n",
    "b = int('hello')  # ValueError"
   ]
  },
  {
   "cell_type": "markdown",
   "metadata": {},
   "source": [
    "---\n",
    "🚩 ***Exercise:*** Try to come up with new code examples which trigger each of the above types of error."
   ]
  },
  {
   "cell_type": "code",
   "execution_count": 31,
   "metadata": {},
   "outputs": [
    {
     "ename": "SyntaxError",
     "evalue": "invalid syntax (<ipython-input-31-558247e512c0>, line 2)",
     "output_type": "error",
     "traceback": [
      "\u001b[1;36m  File \u001b[1;32m\"<ipython-input-31-558247e512c0>\"\u001b[1;36m, line \u001b[1;32m2\u001b[0m\n\u001b[1;33m    for i in range (2)\u001b[0m\n\u001b[1;37m                      ^\u001b[0m\n\u001b[1;31mSyntaxError\u001b[0m\u001b[1;31m:\u001b[0m invalid syntax\n"
     ]
    }
   ],
   "source": [
    "#invalid syntax\n",
    "for i in range (2)\n",
    "    print(i)\n",
    "\n",
    "#index error\n",
    "list = []\n",
    "list.append(1)\n",
    "list.append(2)\n",
    "print(list[2])\n",
    "\n",
    "#Name error\n",
    "maclaurin = 1 + 1\n",
    "modified = 1 + mclaurin\n",
    "\n",
    "#Type error\n",
    "a = \"2\"\n",
    "b = [\"Haus\", \"of\", \"Waffles\"]\n",
    "c = a * b\n",
    "print(c)\n",
    "\n",
    "#Value error\n",
    "IsTrue = \"Not\"\n",
    "print(int(IsTrue))"
   ]
  },
  {
   "cell_type": "markdown",
   "metadata": {},
   "source": [
    "---\n",
    "### Testing\n",
    "\n",
    "When you write or review code, it's important to **test** it often and comprehensively. In the Week 2 workshop, for Task 1, several tests were already written before you started writing the function; in the Coderunner quizzes, the tests are also already there, and you write and correct your code until all the tests pass.\n",
    "\n",
    "It's important to test your code for **trivial cases**, for instance **small arrays** or **small numbers**, for which you already know what the result should be. Start off with something you know, and build from there: try trivial inputs and check that you get the correct output; then, try something slightly more complex; and keep iterating until you find the problem, or until you are sure that your code works as it should. For an example of this, recall the second video in Week 2: to check that the functions worked correctly, we tested them on simple examples for which we knew what the result should be.\n",
    "\n",
    "A quick and easy way to test your code is to use `print()` commands, to instruct Python to show you some output or results at different stages.\n",
    "\n",
    "Here's an example: the function `find_divisors()` is supposed to find all the divisors of `n` in the list `nums`, but it doesn't work. The programmer or reviewer has added a few `print()` commands to figure out what is happening."
   ]
  },
  {
   "cell_type": "code",
   "execution_count": 57,
   "metadata": {},
   "outputs": [
    {
     "name": "stdout",
     "output_type": "stream",
     "text": [
      "Current number being tested is 1.\n",
      "Is 1 a divisor of 12?\n",
      "12 / 1 = 12\n",
      "Yes, adding 12 to the list\n",
      "\n",
      "Current number being tested is 2.\n",
      "Is 2 a divisor of 12?\n",
      "12 / 2 = 6\n",
      "Yes, adding 12 to the list\n",
      "\n",
      "Current number being tested is 3.\n",
      "Is 3 a divisor of 12?\n",
      "12 / 3 = 4\n",
      "Yes, adding 12 to the list\n",
      "\n",
      "Current number being tested is 4.\n",
      "Is 4 a divisor of 12?\n",
      "12 / 4 = 3\n",
      "Yes, adding 12 to the list\n",
      "\n",
      "Current number being tested is 5.\n",
      "Is 5 a divisor of 12?\n",
      "12 / 5 = 2\n",
      "No\n",
      "\n",
      "Current number being tested is 6.\n",
      "Is 6 a divisor of 12?\n",
      "12 / 6 = 2\n",
      "Yes, adding 12 to the list\n",
      "\n",
      "Current number being tested is 7.\n",
      "Is 7 a divisor of 12?\n",
      "12 / 7 = 1\n",
      "No\n",
      "\n",
      "Current number being tested is 8.\n",
      "Is 8 a divisor of 12?\n",
      "12 / 8 = 1\n",
      "No\n",
      "\n",
      "Result: [12, 12, 12, 12, 12]\n",
      "\n"
     ]
    }
   ],
   "source": [
    "def find_divisors(nums, n):\n",
    "    '''\n",
    "    Returns a list of all divisors of n\n",
    "    present in the list nums.\n",
    "    '''\n",
    "    divisors = []\n",
    "    for i in nums:\n",
    "        \n",
    "        print(f'Current number being tested is {i}.')\n",
    "        print(f'Is {i} a divisor of {n}?')\n",
    "        \n",
    "        # Check if n/i is an integer\n",
    "        print(f'{n} / {i} = {n // i}')\n",
    "        \n",
    "        if n % i == 0:\n",
    "            print(f'Yes, adding {n} to the list\\n')\n",
    "            divisors.append(n)\n",
    "        else:\n",
    "            print('No\\n')\n",
    "    \n",
    "    return divisors\n",
    "\n",
    "# Test example: result should be [1, 1, 1, 1] (no matter the choice of n)\n",
    "#divisors = find_divisors([1, 1, 1, 1], 97)\n",
    "#print(f'Result: {divisors}\\n')\n",
    "\n",
    "# Test example: result should be [1, 2, 3, 4, 6]\n",
    "divisors = find_divisors([1, 2, 3, 4, 5, 6, 7, 8], 12)\n",
    "#print(f'Result: {divisors}\\n')"
   ]
  },
  {
   "cell_type": "markdown",
   "metadata": {},
   "source": [
    "---\n",
    "🚩 ***Exercise 5:*** Continue debugging the function `find_divisors()` in the cell above to find and solve the problems. After you find the problem and ensure the first test passes, make sure to write more tests to check that the function will work for any input.\n",
    "\n",
    "For example, what should the result be if `n` is a prime number? What about if `n` is smaller than all the numbers in the list?\n",
    "\n",
    "Once you've finished debugging and testing, you can remove all the helper `print()` statements and the tests. It's always a good idea to keep your code somewhere (you might find it useful later!), so don't delete it -- you could store it away somewhere, in another file, or just rewrite the cleaned-up function definition in another cell."
   ]
  },
  {
   "cell_type": "code",
   "execution_count": 60,
   "metadata": {},
   "outputs": [],
   "source": [
    "def find_divisors(nums, n):\n",
    "    '''\n",
    "    Returns a list of all divisors of n\n",
    "    present in the list nums.\n",
    "    '''\n",
    "    divisors = []\n",
    "    for i in nums:\n",
    "        \n",
    "        print(f'Current number being tested is {i}.')\n",
    "        print(f'Is {i} a divisor of {n}?')\n",
    "        \n",
    "        # Check if n/i is an integer\n",
    "        print(f'{n} / {i} = {n // i}')\n",
    "        \n",
    "        # Changed the IsInstance function as it didn't really help. Changed it to use a Modulo operand.\n",
    "        if n % i == 0:\n",
    "            print(f'Yes, adding {n} to the list\\n')\n",
    "            divisors.append(n)\n",
    "        else:\n",
    "            print('No\\n')\n",
    "    \n",
    "    return divisors"
   ]
  },
  {
   "cell_type": "code",
   "execution_count": null,
   "metadata": {
    "tags": [
     "solution_cell"
    ]
   },
   "outputs": [],
   "source": [
    "%run scripts/show_solutions.py week03_ex5"
   ]
  },
  {
   "cell_type": "markdown",
   "metadata": {},
   "source": [
    "---\n",
    "## Code review: the essentials\n",
    "\n",
    "This week, during the workshop, you will work in small groups on a *code review* exercise. Code review is an important part of the programming workflow, where one or more programmers review a piece of code written by someone else, give feedback to the author, and suggest improvements. The reviewers typically answer the following questions:\n",
    "\n",
    "- Is the code **easy to read** and to understand?\n",
    "- Are there any **bugs**? Does the code produce the intended result, without errors?\n",
    "- Could this code easily be **re-used** or adapted in other contexts?\n",
    "- Is the implementation **efficient**? Is there too much data stored in memory that we don't need? Is there another way to program this, which takes less time to compute?\n",
    "\n",
    "Of course, you should ask yourself these questions whenever you write code, even if it won't be peer-reviewed --- these are the keys to writing quality code.\n",
    "\n",
    "---\n",
    "### Code comments\n",
    "\n",
    "When writing code, it is *always* a good idea to annotate it with **comments** to explain what each step is doing. In Python, code comments start with a `#` character; anything on the same line after the `#` character is **ignored** by the Python interpreter.\n",
    "\n",
    "For example, here is a suitably commented piece of code:"
   ]
  },
  {
   "cell_type": "code",
   "execution_count": null,
   "metadata": {},
   "outputs": [],
   "source": [
    "# Create 2 integer variables a and b\n",
    "a = 4\n",
    "b = -8\n",
    "\n",
    "# Find out whether a divides b\n",
    "print(b % a == 0)"
   ]
  },
  {
   "cell_type": "markdown",
   "metadata": {},
   "source": [
    "Code comments are **essential**, not only if other people read your code (to help them understand what you are doing), but also for yourself! When coming back to a piece of code, even after just a few days, it can be surprisingly difficult to remember what you were doing by just reading the code -- having comments annotating your script is immensely helpful.\n",
    "\n",
    "From now on, all your work for this course (and beyond!) must be sufficiently commented. This means that any step in your code that is not trivial should be **explained** (not simply *described!*) by a brief code comment.\n",
    "\n",
    "---\n",
    "**Note:** while writing a *draft* piece of code and trying different approaches, instead of deleting obsolete or unneeded code, you can simply comment it out. This is an quick-and-easy way to ensure that you don't permanently delete working code by accident, and to keep incomplete or buggy code snippets around for later use.\n",
    "\n",
    "In Jupyter notebooks, Atom, and VSCode, select any code you'd like to comment out (or uncomment), and press <kbd>Ctrl</kbd>+<kbd>/</kbd> or <kbd>Cmd</kbd>+<kbd>/</kbd> to toggle code comments.\n",
    "\n",
    "---\n",
    "🚩 ***Exercise 6:*** Are these code comments useful for you to understand how the code works? If not, what is the problem with them, and how would you change them?"
   ]
  },
  {
   "cell_type": "code",
   "execution_count": 33,
   "metadata": {},
   "outputs": [
    {
     "name": "stdout",
     "output_type": "stream",
     "text": [
      "[1, 1, 2, 3, 5, 8]\n"
     ]
    }
   ],
   "source": [
    "def fibonacci(n):\n",
    "    '''\n",
    "    Returns the Fibonacci sequence up to xn,\n",
    "    starting with x0 = 1, x1 = 1, as a list.\n",
    "    '''\n",
    "    # Set the first two elements of the Fibonacci sequence to start iterating\n",
    "    x = [1, 1]\n",
    "    \n",
    "    # Iterate from n = 0 up to the selected n-1 number of terms\n",
    "    for i in range(n-1):\n",
    "        # Next element of the series: Sum the previous 2 items in the list, for calculating the next item.\n",
    "        x.append(x[i] + x[i+1])\n",
    "    \n",
    "    # Make the list x available for usage outside of this definition\n",
    "    return x\n",
    "\n",
    "# Display fibonacci(5)\n",
    "print(fibonacci(5))"
   ]
  },
  {
   "cell_type": "code",
   "execution_count": null,
   "metadata": {
    "tags": [
     "solution_cell"
    ]
   },
   "outputs": [],
   "source": [
    "%run scripts/show_solutions.py week03_ex6"
   ]
  },
  {
   "cell_type": "markdown",
   "metadata": {},
   "source": [
    "---\n",
    "### Code style\n",
    "\n",
    "Generally, the structure, variable name, and commenting choices are referred to as the **style** of your code. Style is important for code readability, and for consistency when working as part of a team. You may wish to take a look at different style guides, such as e.g. [the official guide for Python developers](https://www.python.org/dev/peps/pep-0008).\n",
    "\n",
    "For the purpose of this course, don't worry too much about following these guidelines too strictly. The important points to take away is that your code should aim to be **easily readable**, and **consistently styled**.\n",
    "\n",
    "#### Whitespace\n",
    "\n",
    "One particular practice I would recommend to adhere to is featured in the [Whitespace in Expressions and Statements](https://www.python.org/dev/peps/pep-0008/#whitespace-in-expressions-and-statements) section of PEP-8. To summarise it:"
   ]
  },
  {
   "cell_type": "code",
   "execution_count": 34,
   "metadata": {},
   "outputs": [
    {
     "name": "stdout",
     "output_type": "stream",
     "text": [
      "m\n",
      "m\n"
     ]
    }
   ],
   "source": [
    "import numpy as np\n",
    "\n",
    "#Some not very easily readable code...\n",
    "a=(np.sqrt(5))\n",
    "a +=2 *np.exp(4*np.pi)-np.sin (a**2)\n",
    "s='I am a string!'\n",
    "print(s[ 3 ])\n",
    "\n",
    "\n",
    "# A little better...\n",
    "a = np.sqrt(5)\n",
    "a += 2 * np.cos(4 * np.pi**2) - np.sin(a**2)\n",
    "\n",
    "s = 'I am a string!'\n",
    "print(s[3])"
   ]
  },
  {
   "cell_type": "markdown",
   "metadata": {},
   "source": [
    "#### Naming conventions\n",
    "\n",
    "When writing small, simple code snippets (like many of the examples you have seen so far in these worksheets), using single-letter variable or function names is usually OK. However, for more complex code, it is usually a better idea to name your variables in a way that keeps your code easily understandable.\n",
    "\n",
    "Take a look at the PEP-8 section on [variable names](https://www.python.org/dev/peps/pep-0008/#descriptive-naming-styles).\n",
    "\n",
    "---\n",
    "🚩 ***Exercise 7:*** The following code finds the roots of the quadratic polynomial $p(x) = ax^2 + bx + c$. However, the author wrote it in a hurry. What can you do to improve it?"
   ]
  },
  {
   "cell_type": "code",
   "execution_count": 40,
   "metadata": {},
   "outputs": [
    {
     "name": "stdout",
     "output_type": "stream",
     "text": [
      "The roots of the  2 * x1**2 + 0.5 * x1 + -9 quadratic polynomial are:\n",
      "x1: -2.25\n",
      "x2: 2.0\n"
     ]
    }
   ],
   "source": [
    "a = 2\n",
    "b = 0.5\n",
    "c = -9\n",
    "\n",
    "import numpy as np\n",
    "x1 = (-b - np.sqrt(b**2 - 4 * a * c)) / (2 * a)\n",
    "x2 = (-b + np.sqrt(b**2 - 4 * a *c)) / (2 * a)\n",
    "#a*x1**2 + b*x1 + c\n",
    "\n",
    "print(f\"The roots of the  {a} * x1**2 + {b} * x1 + {c} quadratic polynomial are:\")\n",
    "print(f\"x1: {x1}\")\n",
    "print(f\"x2: {x2}\")"
   ]
  },
  {
   "cell_type": "code",
   "execution_count": null,
   "metadata": {
    "tags": [
     "solution_cell"
    ]
   },
   "outputs": [],
   "source": [
    "%run scripts/show_solutions.py week03_ex7"
   ]
  },
  {
   "cell_type": "markdown",
   "metadata": {},
   "source": [
    "---\n",
    "## Standard input\n",
    "\n",
    "Sometimes, it's useful to ask a user to enter some input interactively. We do this with the `input()` function -- you have seen examples of this in some of the Week 2 practice quiz questions.\n",
    "\n",
    "`input()` takes a string as an argument, which will be displayed as a prompt. The user will be prompted to type a value and press Enter -- this value will be returned as a `str` by `input()`."
   ]
  },
  {
   "cell_type": "code",
   "execution_count": null,
   "metadata": {},
   "outputs": [],
   "source": [
    "# Ask user to enter a number, assign it to a variable\n",
    "your_number = input('Please enter a number and press Enter: ')\n",
    "print(your_number)\n",
    "print(type(your_number))"
   ]
  },
  {
   "cell_type": "markdown",
   "metadata": {},
   "source": [
    "If you are asking for numeric data, then you will need to *cast* the returned value to `int` or `float`."
   ]
  },
  {
   "cell_type": "code",
   "execution_count": null,
   "metadata": {},
   "outputs": [],
   "source": [
    "your_number = float(input('Please enter a number and press Enter: '))\n",
    "print(f'{your_number} divided by 3 is {your_number / 3}.')"
   ]
  },
  {
   "cell_type": "markdown",
   "metadata": {},
   "source": [
    "---\n",
    "🚩 ***Exercise 8:*** The following code generates a random integer `target` between 1 and 100. You will code a number-guessing game: ask the user for an initial guess, and tell them if it's too big, too small, or if they've guessed correctly. **Keep asking them to guess again** as long as they haven't found the number.\n",
    "\n",
    "*Hint:* you will need a `while` loop."
   ]
  },
  {
   "cell_type": "code",
   "execution_count": 51,
   "metadata": {},
   "outputs": [
    {
     "name": "stdout",
     "output_type": "stream",
     "text": [
      "5\n",
      "You haven't guessed the random number, try again\n",
      "45\n",
      "You haven't guessed the random number, try again\n",
      "100\n",
      "You haven't guessed the random number, try again\n",
      "98\n",
      "You haven't guessed the random number, try again\n"
     ]
    },
    {
     "ename": "KeyboardInterrupt",
     "evalue": "Interrupted by user",
     "output_type": "error",
     "traceback": [
      "\u001b[1;31m---------------------------------------------------------------------------\u001b[0m",
      "\u001b[1;31mKeyboardInterrupt\u001b[0m                         Traceback (most recent call last)",
      "\u001b[1;32m<ipython-input-51-36b0fbb25461>\u001b[0m in \u001b[0;36m<module>\u001b[1;34m\u001b[0m\n\u001b[0;32m      7\u001b[0m \u001b[1;32mwhile\u001b[0m\u001b[1;33m(\u001b[0m\u001b[0mguess\u001b[0m \u001b[1;33m!=\u001b[0m \u001b[0mtarget\u001b[0m\u001b[1;33m)\u001b[0m\u001b[1;33m:\u001b[0m\u001b[1;33m\u001b[0m\u001b[1;33m\u001b[0m\u001b[0m\n\u001b[0;32m      8\u001b[0m     \u001b[0mprint\u001b[0m\u001b[1;33m(\u001b[0m\u001b[1;34m\"You haven't guessed the random number, try again\"\u001b[0m\u001b[1;33m)\u001b[0m\u001b[1;33m\u001b[0m\u001b[1;33m\u001b[0m\u001b[0m\n\u001b[1;32m----> 9\u001b[1;33m     \u001b[0mguess\u001b[0m \u001b[1;33m=\u001b[0m \u001b[0mint\u001b[0m\u001b[1;33m(\u001b[0m\u001b[0minput\u001b[0m\u001b[1;33m(\u001b[0m\u001b[1;33m)\u001b[0m\u001b[1;33m)\u001b[0m\u001b[1;33m\u001b[0m\u001b[1;33m\u001b[0m\u001b[0m\n\u001b[0m\u001b[0;32m     10\u001b[0m \u001b[1;33m\u001b[0m\u001b[0m\n\u001b[0;32m     11\u001b[0m \u001b[0mprint\u001b[0m\u001b[1;33m(\u001b[0m\u001b[1;34m\"You guessed the number!\"\u001b[0m\u001b[1;33m)\u001b[0m\u001b[1;33m\u001b[0m\u001b[1;33m\u001b[0m\u001b[0m\n",
      "\u001b[1;32m~\\Anaconda3\\lib\\site-packages\\ipykernel\\kernelbase.py\u001b[0m in \u001b[0;36mraw_input\u001b[1;34m(self, prompt)\u001b[0m\n\u001b[0;32m    858\u001b[0m                 \u001b[1;34m\"raw_input was called, but this frontend does not support input requests.\"\u001b[0m\u001b[1;33m\u001b[0m\u001b[1;33m\u001b[0m\u001b[0m\n\u001b[0;32m    859\u001b[0m             )\n\u001b[1;32m--> 860\u001b[1;33m         return self._input_request(str(prompt),\n\u001b[0m\u001b[0;32m    861\u001b[0m             \u001b[0mself\u001b[0m\u001b[1;33m.\u001b[0m\u001b[0m_parent_ident\u001b[0m\u001b[1;33m,\u001b[0m\u001b[1;33m\u001b[0m\u001b[1;33m\u001b[0m\u001b[0m\n\u001b[0;32m    862\u001b[0m             \u001b[0mself\u001b[0m\u001b[1;33m.\u001b[0m\u001b[0m_parent_header\u001b[0m\u001b[1;33m,\u001b[0m\u001b[1;33m\u001b[0m\u001b[1;33m\u001b[0m\u001b[0m\n",
      "\u001b[1;32m~\\Anaconda3\\lib\\site-packages\\ipykernel\\kernelbase.py\u001b[0m in \u001b[0;36m_input_request\u001b[1;34m(self, prompt, ident, parent, password)\u001b[0m\n\u001b[0;32m    902\u001b[0m             \u001b[1;32mexcept\u001b[0m \u001b[0mKeyboardInterrupt\u001b[0m\u001b[1;33m:\u001b[0m\u001b[1;33m\u001b[0m\u001b[1;33m\u001b[0m\u001b[0m\n\u001b[0;32m    903\u001b[0m                 \u001b[1;31m# re-raise KeyboardInterrupt, to truncate traceback\u001b[0m\u001b[1;33m\u001b[0m\u001b[1;33m\u001b[0m\u001b[1;33m\u001b[0m\u001b[0m\n\u001b[1;32m--> 904\u001b[1;33m                 \u001b[1;32mraise\u001b[0m \u001b[0mKeyboardInterrupt\u001b[0m\u001b[1;33m(\u001b[0m\u001b[1;34m\"Interrupted by user\"\u001b[0m\u001b[1;33m)\u001b[0m \u001b[1;32mfrom\u001b[0m \u001b[1;32mNone\u001b[0m\u001b[1;33m\u001b[0m\u001b[1;33m\u001b[0m\u001b[0m\n\u001b[0m\u001b[0;32m    905\u001b[0m             \u001b[1;32mexcept\u001b[0m \u001b[0mException\u001b[0m \u001b[1;32mas\u001b[0m \u001b[0me\u001b[0m\u001b[1;33m:\u001b[0m\u001b[1;33m\u001b[0m\u001b[1;33m\u001b[0m\u001b[0m\n\u001b[0;32m    906\u001b[0m                 \u001b[0mself\u001b[0m\u001b[1;33m.\u001b[0m\u001b[0mlog\u001b[0m\u001b[1;33m.\u001b[0m\u001b[0mwarning\u001b[0m\u001b[1;33m(\u001b[0m\u001b[1;34m\"Invalid Message:\"\u001b[0m\u001b[1;33m,\u001b[0m \u001b[0mexc_info\u001b[0m\u001b[1;33m=\u001b[0m\u001b[1;32mTrue\u001b[0m\u001b[1;33m)\u001b[0m\u001b[1;33m\u001b[0m\u001b[1;33m\u001b[0m\u001b[0m\n",
      "\u001b[1;31mKeyboardInterrupt\u001b[0m: Interrupted by user"
     ]
    }
   ],
   "source": [
    "import numpy as np\n",
    "\n",
    "guess = int(input())\n",
    "rng = np.random.default_rng()\n",
    "target = rng.integers(1, 101)\n",
    "\n",
    "while(guess != target):\n",
    "    print(\"You haven't guessed the random number, try again\")\n",
    "    guess = int(input())\n",
    "\n",
    "print(\"You guessed the number!\")\n",
    "\n",
    "\n",
    "\n"
   ]
  },
  {
   "cell_type": "code",
   "execution_count": null,
   "metadata": {
    "tags": [
     "solution_cell"
    ]
   },
   "outputs": [],
   "source": [
    "%run scripts/show_solutions.py week03_ex8"
   ]
  }
 ],
 "metadata": {
  "kernelspec": {
   "display_name": "Python 3",
   "language": "python",
   "name": "python3"
  },
  "language_info": {
   "codemirror_mode": {
    "name": "ipython",
    "version": 3
   },
   "file_extension": ".py",
   "mimetype": "text/x-python",
   "name": "python",
   "nbconvert_exporter": "python",
   "pygments_lexer": "ipython3",
   "version": "3.8.3"
  }
 },
 "nbformat": 4,
 "nbformat_minor": 4
}
